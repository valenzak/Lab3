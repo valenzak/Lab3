{
 "metadata": {
  "name": "xxxfinal.ipynb"
 },
 "nbformat": 3,
 "nbformat_minor": 0,
 "worksheets": [
  {
   "cells": [
    {
     "cell_type": "markdown",
     "metadata": {},
     "source": [
      "Significance: This is a code to extract gun homicide rates in various countries.  Maybe I could later pair this information with some sort of gun rights index to try to make conclusions on whether more gun rights means more gun homicides.  I currently have no pre-concieved notion of the answer.\n",
      "\n",
      "Problems: First, I tried writing a code to extract all crime incidences around UW reported by UWPD.  The html was inconsistant, however, and I gave up after having to set the code to look for something else after every other incident.  With the gun homicides table I ended up using, there was no easy way to make a list of dictionaries, for some reason.  I don't know why, it was easy for the group project and not for this one.  I thought writing two seperate, side by side columns HAD to be done with a list of dictionaries, so put a lot of time into trying to get this to work out.  Then I realized I should try it another way: I made a list of lists instead.  I got this to work fairly quickly.\n",
      "\n",
      "Borrowings: I borrowed a lot from our group scraping assignment, but had to modify all of it heavily in this case.  I googled how to write to lists to a csv file, and used a pretty large number of websites to decide what would work best for what I'm trying to do.  I didn't talk to anyone about anything technical during this assignment, though Cole and I talked briefly about our respective topics.  Really, I wanted to see what I could do on my own (albeit with the help of the internet), and I'm proud of this assignment for exactly that reason.\n",
      "\n",
      "Time spent:  When it's late at night on Sunday and Monday (I was REALLY behind due to midterms, etc. this week), I get very little done.  I worked for six hours on the UW crime thing, and subsequently realizing it wouldn't work, and trying to get something started with the Gun Homicide thing.  Wednesday in class, I was pleased with how quickly I was able to make lists of the rows I wanted.  Wednesday afternoon, I fiddled with making a list of dictionaries for 3 or more hours (I didn't realize I was so tired/ineffective).  Thursday afternoon/evening, I abandoned the dictionaries idea, and got the csv file written exactly the way I wanted it in about two hours or so.  15+ hours of work in total."
     ]
    },
    {
     "cell_type": "code",
     "collapsed": false,
     "input": [
      "#import 100 things\n",
      "import urllib2\n",
      "import lxml.html\n",
      "import lxml.cssselect\n",
      "from lxml.cssselect import CSSSelector\n",
      "\n",
      "import sys\n",
      "sys.path.append('C:\\\\Program Files (x86)\\\\ArcGIS\\\\Desktop10.2\\\\bin')\n",
      "sys.path.append('C:\\\\Program Files (x86)\\\\ArcGIS\\\\Desktop10.2\\\\arcpy')\n",
      "sys.path.append('C:\\\\Program Files (x86)\\\\ArcGIS\\\\Desktop10.2\\\\ArcToolbox\\\\Scripts')\n",
      "import arcpy\n",
      "\n",
      "\n",
      "#Set some more stuff up like explained on class website\n",
      "url = \"http://en.wikipedia.org/wiki/List_of_countries_by_firearm-related_death_rate\" #Define URL for table to be scraped\n",
      "doc_text = urllib2.urlopen(url).read()\n",
      "doc = lxml.html.fromstring(doc_text)\n",
      "doc.make_links_absolute(url)\n",
      "\n",
      "##Make a list of country names\n",
      "countryDiv = doc.cssselect(\"table td:nth-child(7)\") #Define country name as the 7th column of the table\n",
      "country = ['Countries'] #Make a list for all the country names, with \"Countries\" at the start so it goes at the top of the column later\n",
      "for row in countryDiv:\n",
      "    country.append(row.text[8:])#Append the country names to the list.  Each row read \"Guns in COUNTRY\", so I used 8: to only select the country names\n",
      "#print country\n",
      "    \n",
      "##Make a list for gun homicides in each country\n",
      "homDiv = doc.cssselect(\"table td:nth-child(3)\")#Define Homicides per 100,000 pop as the 3rd column of the table\n",
      "hom = ['Gun Homicides']#Make a list for all the Gun Homicides, with \"Gun Homicides\" at the start so it goes at the top of the column later\n",
      "for row in homDiv:\n",
      "    hom.append(row.text[:4])#Append the Gun Homicides to the list.  Each number is followed by a date the study was taken, so I used :4 to collect only the first 3 digits\n",
      "\n",
      "    \n",
      "##Put the lists, country and hom, into one list so that they correspond with one another\n",
      "LastList = zip(country, hom)\n",
      "\n",
      "\n",
      "##Time to write a csv file titled \"GunHomicides\" with country and hom information in the Lab3 folder\n",
      "#import csv\n",
      "#with open('C:\\\\Users\\\\Valenter\\\\Documents\\\\Github\\\\Lab3\\\\GunHomicides.csv', 'wb') as f: #Defines where to put the new csv file\n",
      "#    writer = csv.writer(f)\n",
      "#    writer.writerows(LastList)#write the file\n",
      "\n",
      "##Create a new layer and populate it with the input layer\n",
      "in_table = \"C:\\\\Users\\\\valenzak\\\\Documents\\\\GitHub\\\\Lab3\\\\World\\\\Smooth.shp\"\n",
      "out_class = \"C:\\\\Users\\\\valenzak\\\\Documents\\\\GitHub\\\\Lab3\\\\World\\\\output.shp\"\n",
      "arcpy.CopyFeatures_management(in_table, out_class)\n",
      "\n",
      "##Execute adding a new \"Double\" field with the defined variables to the output table\n",
      "field_name = \"GunHom\"\n",
      "arcpy.AddField_management(out_class, field_name, \"DOUBLE\")\n",
      "\n",
      "\n",
      "\n",
      "###Populate the new field in the new layer\n",
      "##Define Cursor 2\n",
      "cursor = arcpy.da.UpdateCursor(out_class, [\"ENGLISH\", field_name])\n",
      "for row in cursor:\n",
      "    if row[0] in country:\n",
      "        row[1] = hom[country.index(row[0])]\n",
      "        cursor.updateRow(row)\n",
      "    else:\n",
      "       row[1] = \"-1\"\n",
      "       cursor.updateRow(row)\n",
      "del cursor\n",
      "\n",
      "#Set up the environment variables for GDAL/OGR\n",
      "from subprocess import call\n",
      "import os\n",
      "os.environ[\"GDAL_DATA\"] = \"C:\\\\OSGeo4W\\\\share\\\\gdal\"\n",
      "os.environ[\"GDAL_DRIVER_PATH\"] = \"C:\\\\OSGeo4W\\\\bin\\\\gdalplugins\"\n",
      "os.environ[\"PROJ_LIB\"] = \"C:\\\\OSGeo4W\\\\share\\\\proj\"\n",
      "os.environ[\"PATH\"] = \"C:\\\\OSGeo4W\\\\bin;\"+os.environ[\"PATH\"]+\";C:\\\\OSGeo4W\\\\apps\\\\msys\\\\bin;C:\\\\OSGeo4W\\\\apps\\\\Python27\\\\Scripts\"\n",
      "\n",
      "##Execute conversion of county shapefiles with GDAL/OGR\n",
      "\n",
      "call(['C:\\\\OSGeo4W\\\\bin\\\\ogr2ogr',\n",
      "      '-f','GeoJSON','-t_srs','WGS84',\n",
      "      '-s_srs','EPSG:4326',\n",
      "      'C:\\\\Users\\\\valenzak\\\\Documents\\\\GitHub\\\\Lab3\\\\World\\\\World.geojson',\n",
      "      'C:\\\\Users\\\\valenzak\\\\Documents\\\\GitHub\\\\Lab3\\\\World\\\\output.shp'])"
     ],
     "language": "python",
     "metadata": {},
     "outputs": [
      {
       "metadata": {},
       "output_type": "pyout",
       "prompt_number": 4,
       "text": [
        "0"
       ]
      }
     ],
     "prompt_number": 4
    },
    {
     "cell_type": "code",
     "collapsed": false,
     "input": [],
     "language": "python",
     "metadata": {},
     "outputs": [],
     "prompt_number": 7
    },
    {
     "cell_type": "code",
     "collapsed": false,
     "input": [],
     "language": "python",
     "metadata": {},
     "outputs": []
    }
   ],
   "metadata": {}
  }
 ]
}