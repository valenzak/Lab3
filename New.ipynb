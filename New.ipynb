{
 "metadata": {
  "name": "new.ipynb"
 },
 "nbformat": 3,
 "nbformat_minor": 0,
 "worksheets": [
  {
   "cells": [
    {
     "cell_type": "markdown",
     "metadata": {},
     "source": [
      "This is a code to extract homicide rates in various countries.\n",
      "\n",
      "\n",
      "\n",
      "Note: First, I tried writing a code to extract all crime incidences around UW reported by UWPD.  The html was inconsistant, however, and I gave up after having to set the code to look for something else after every other incident."
     ]
    },
    {
     "cell_type": "code",
     "collapsed": false,
     "input": [
      "import urllib2\n",
      "import lxml.html\n",
      "import lxml.cssselect\n",
      "from lxml.cssselect import CSSSelector\n",
      "\n",
      "url = \"http://en.wikipedia.org/wiki/List_of_countries_by_firearm-related_death_rate\"\n",
      "doc_text = urllib2.urlopen(url).read()\n",
      "doc = lxml.html.fromstring(doc_text)\n",
      "doc.make_links_absolute(url)\n",
      "\n",
      "dog = []\n",
      "\n",
      "tableDiv = doc.cssselect(\"table td\") #mod-content was a unique css class applied to a div wrapping our table of data\\n\",\n",
      "hom = []\n",
      "for row in tableDiv:\n",
      "    dictionary = {}\n",
      "    country = doc.cssselect\n",
      "    print row.text\n",
      "\n",
      "        \n",
      "        \n",
      "        \n",
      "#players = []\n",
      "#for row in tableRows: #for each row of table data representaing a player\\n\",\n",
      " #   dictionary = {}\n",
      " #   names = row.cssselect(\"a\") #select the link in the row (the only link is players names)\\n\",\n",
      "  #  bavg = row.cssselect(\"td.sortcell\") #select the batting average (bavg is the only td with that class)\\n\",\n",
      "   # name = names[0].text_content()\n",
      "    #average = bavg[0].text_content()\n",
      "#    dictionary[\"name\"] = name;\n",
      " #   dictionary[\"bavg\"] = average;\n",
      "  #  players.append(dictionary) #these five lines build a dictionary for each player with keys name and bavg and append these dictionaries to a list\\n\",\n",
      "   # print players\n",
      "    \n",
      "\n",
      "\n",
      "\n",
      "#tableRows = tableDiv[2:35] #subset of the list to chop of title lines and summary lines of info"
     ],
     "language": "python",
     "metadata": {},
     "outputs": [
      {
       "ename": "TypeError",
       "evalue": "'NoneType' object is not callable",
       "output_type": "pyerr",
       "traceback": [
        "\u001b[1;31m---------------------------------------------------------------------------\u001b[0m\n\u001b[1;31mTypeError\u001b[0m                                 Traceback (most recent call last)",
        "\u001b[1;32m<ipython-input-44-c093a175a5a9>\u001b[0m in \u001b[0;36m<module>\u001b[1;34m()\u001b[0m\n\u001b[0;32m     16\u001b[0m     \u001b[0mdictionary\u001b[0m \u001b[1;33m=\u001b[0m \u001b[1;33m{\u001b[0m\u001b[1;33m}\u001b[0m\u001b[1;33m\u001b[0m\u001b[0m\n\u001b[0;32m     17\u001b[0m     \u001b[0mcountry\u001b[0m \u001b[1;33m=\u001b[0m \u001b[0mdoc\u001b[0m\u001b[1;33m.\u001b[0m\u001b[0mcssselect\u001b[0m\u001b[1;33m\u001b[0m\u001b[0m\n\u001b[1;32m---> 18\u001b[1;33m     \u001b[1;32mprint\u001b[0m \u001b[0mrow\u001b[0m\u001b[1;33m.\u001b[0m\u001b[0mtext\u001b[0m\u001b[1;33m(\u001b[0m\u001b[1;36m0\u001b[0m\u001b[1;33m)\u001b[0m\u001b[1;33m\u001b[0m\u001b[0m\n\u001b[0m\u001b[0;32m     19\u001b[0m \u001b[1;33m\u001b[0m\u001b[0m\n\u001b[0;32m     20\u001b[0m \u001b[1;33m\u001b[0m\u001b[0m\n",
        "\u001b[1;31mTypeError\u001b[0m: 'NoneType' object is not callable"
       ]
      }
     ],
     "prompt_number": 44
    },
    {
     "cell_type": "code",
     "collapsed": false,
     "input": [],
     "language": "python",
     "metadata": {},
     "outputs": []
    }
   ],
   "metadata": {}
  }
 ]
}