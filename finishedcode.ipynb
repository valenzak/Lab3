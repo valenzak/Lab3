{
 "metadata": {
  "name": "finishedcode.ipynb"
 },
 "nbformat": 3,
 "nbformat_minor": 0,
 "worksheets": [
  {
   "cells": [
    {
     "cell_type": "markdown",
     "metadata": {},
     "source": [
      "Significance: This is a code to extract gun homicide rates in various countries.  Maybe I could later pair this information with some sort of gun rights index to try to make conclusions on whether more gun rights means more gun homicides.  I currently have no pre-concieved notion of the answer.\n",
      "\n",
      "Problems: First, I tried writing a code to extract all crime incidences around UW reported by UWPD.  The html was inconsistant, however, and I gave up after having to set the code to look for something else after every other incident.  With the gun homicides table I ended up using, there was no easy way to make a list of dictionaries, for some reason.  I don't know why, it was easy for the group project and not for this one.  I thought writing two seperate, side by side columns HAD to be done with a list of dictionaries, so put a lot of time into trying to get this to work out.  Then I realized I should try it another way: I made a list of lists instead.  I got this to work fairly quickly.\n",
      "\n",
      "Borrowings: I borrowed a lot from our group scraping assignment, but had to modify all of it heavily in this case.  I googled how to write to lists to a csv file, and used a pretty large number of websites to decide what would work best for what I'm trying to do.  I didn't talk to anyone about anything technical during this assignment, though Cole and I talked briefly about our respective topics.  Really, I wanted to see what I could do on my own (albeit with the help of the internet), and I'm proud of this assignment for exactly that reason.\n",
      "\n",
      "Time spent:  When it's late at night on Sunday and Monday (I was REALLY behind due to midterms, etc. this week), I get very little done.  I worked for six hours on the UW crime thing, and subsequently realizing it wouldn't work, and trying to get something started with the Gun Homicide thing.  Wednesday in class, I was pleased with how quickly I was able to make lists of the rows I wanted.  Wednesday afternoon, I fiddled with making a list of dictionaries for 3 or more hours (I didn't realize I was so tired/ineffective).  Thursday afternoon/evening, I abandoned the dictionaries idea, and got the csv file written exactly the way I wanted it in about two hours or so.  15+ hours of work in total."
     ]
    },
    {
     "cell_type": "code",
     "collapsed": false,
     "input": [
      "#import 100 things\n",
      "import urllib2\n",
      "import lxml.html\n",
      "import lxml.cssselect\n",
      "from lxml.cssselect import CSSSelector\n",
      "\n",
      "#Set some more stuff up like explained on class website\n",
      "url = \"http://en.wikipedia.org/wiki/List_of_countries_by_firearm-related_death_rate\" #Define URL for table to be scraped\n",
      "doc_text = urllib2.urlopen(url).read()\n",
      "doc = lxml.html.fromstring(doc_text)\n",
      "doc.make_links_absolute(url)\n",
      "\n",
      "##Make a list of country names\n",
      "countryDiv = doc.cssselect(\"table td:nth-child(7)\") #Define country name as the 7th column of the table\n",
      "country = ['Countries'] #Make a list for all the country names, with \"Countries\" at the start so it goes at the top of the column later\n",
      "for row in countryDiv:\n",
      "    country.append(row.text[8:])#Append the country names to the list.  Each row read \"Guns in COUNTRY\", so I used 8: to only select the country names\n",
      "\n",
      "##Make a list for gun homicides in each country\n",
      "homDiv = doc.cssselect(\"table td:nth-child(3)\")#Define Homicides per 100,000 pop as the 3rd column of the table\n",
      "hom = ['Gun Homicides']#Make a list for all the Gun Homicides, with \"Gun Homicides\" at the start so it goes at the top of the column later\n",
      "for row in homDiv:\n",
      "    hom.append(row.text[:4])#Append the Gun Homicides to the list.  Each number is followed by a date the study was taken, so I used :4 to collect only the first 3 digits\n",
      "\n",
      "##Put the lists, country and hom, into one list so that they correspond with one another\n",
      "LastList = zip(country, hom)\n",
      "print LastList\n",
      "\n",
      "##Time to write a csv file titled \"GunHomicides\" with country and hom information in the Lab3 folder\n",
      "#import csv\n",
      "#with open('C:\\\\Users\\\\Valenter\\\\Documents\\\\Github\\\\Lab3\\\\GunHomicides.csv', 'wb') as f: #Defines where to put the new csv file\n",
      "#    writer = csv.writer(f)\n",
      "#    writer.writerows(LastList)#write the file\n",
      "    \n",
      "    \n",
      "    \n",
      "import arcpy\n",
      "\n",
      "##Create a new layer and populate it with the input layer\n",
      "in_table = \"C:\\\\Users\\\\Valenter\\\\Documents\\\\GitHub\\\\Lab3\\\\World\\\\countries.shp\"\n",
      "out_class = \"C:\\\\Users\\\\Valenter\\\\Documents\\\\GitHub\\\\Lab3\\\\World\\\\output.shp\"\n",
      "arcpy.CopyFeatures_management(in_table, out_class)\n",
      "\n",
      "##Execute adding a new \"Double\" field with the defined variables to the output table\n",
      "field_name = \"GunHom\"\n",
      "arcpy.AddField_management(out_class, field_name, \"DOUBLE\")\n",
      "\n",
      "###Populate the new field in the new layer\n",
      "##Define Cursor 2\n",
      "cursor = arcpy.da.UpdateCursor(out_class, [\"NAME\", field_name])\n",
      "for row in cursor:\n",
      "    #if row[0] in country == True:\n",
      "     #   row[1] = hom[country.index(row[0])\n",
      "      #  cursor.updateRow(row)\n",
      "    #else:\n",
      "        row[1] = 9999\n",
      "        cursor.updateRow(row)\n",
      "del cursor"
     ],
     "language": "python",
     "metadata": {},
     "outputs": [
      {
       "ename": "ImportError",
       "evalue": "No module named arcpy",
       "output_type": "pyerr",
       "traceback": [
        "\u001b[1;31m---------------------------------------------------------------------------\u001b[0m\n\u001b[1;31mImportError\u001b[0m                               Traceback (most recent call last)",
        "\u001b[1;32m<ipython-input-6-df1ade162b66>\u001b[0m in \u001b[0;36m<module>\u001b[1;34m()\u001b[0m\n\u001b[0;32m     35\u001b[0m \u001b[1;33m\u001b[0m\u001b[0m\n\u001b[0;32m     36\u001b[0m \u001b[1;33m\u001b[0m\u001b[0m\n\u001b[1;32m---> 37\u001b[1;33m \u001b[1;32mimport\u001b[0m \u001b[0marcpy\u001b[0m\u001b[1;33m\u001b[0m\u001b[0m\n\u001b[0m\u001b[0;32m     38\u001b[0m \u001b[1;33m\u001b[0m\u001b[0m\n\u001b[0;32m     39\u001b[0m \u001b[1;31m##Create a new layer and populate it with the input layer\u001b[0m\u001b[1;33m\u001b[0m\u001b[1;33m\u001b[0m\u001b[0m\n",
        "\u001b[1;31mImportError\u001b[0m: No module named arcpy"
       ]
      },
      {
       "output_type": "stream",
       "stream": "stdout",
       "text": [
        "[('Countries', 'Gun Homicides'), ('Argentina', '3.0 '), ('Australia', '0.13'), ('Austria', '0.18'), ('Azerbaijan', '0.01'), ('Barbados', '3.0 '), ('Belarus', '0.1 '), ('Belgium', '0.29'), ('Brazil', '18.1'), ('Bulgaria', '0.23'), ('Canada', '0.5 '), ('Chile', '2.2 '), ('Colombia', '27.1'), ('Costa Rica', '4.6 '), ('Croatia', '1.1 '), ('Cyprus', '0.24'), ('Czech Republic', '0.12'), ('Denmark', '0.30'), ('El Salvador', '39.9'), ('Estonia', '0.30'), ('Finland', '0.26'), ('France', '0.22'), ('Georgia', '0.60'), ('Germany', '0.20'), ('Greece', '0.59'), ('Guatemala', '34.8'), ('Honduras', '64.8'), ('Hong Kong', '0.00'), ('Hungary', '0.13'), ('Iceland', '0.32'), ('India', '0.30'), ('Israel', '0.94'), ('Italy', '0.36'), ('Jamaica', '39.4'), ('Japan', '0.00'), ('Kuwait', '0.36'), ('Kyrgyzstan', '0.53'), ('Latvia', '0.18'), ('Luxembourg', '0.60'), ('Macedonia', '1.07'), ('Mexico', '10.0'), ('Moldova', '0.45'), ('Montenegro', '2.06'), ('Netherlands', '0.20'), ('New Zealand', '0.26'), ('Nicaragua', '5.90'), ('Norway', '0.04'), ('Panama', '16.1'), ('Paraguay', '7.30'), ('Peru', '2.60'), ('Philippines', '3.24'), ('Poland', '0.02'), ('Portugal', '0.48'), ('Qatar', '0.15'), ('Romania', '0.04'), ('Serbia', '0.62'), ('Singapore', '0.02'), ('Slovakia', '0.18'), ('Slovenia', '0.05'), ('South Africa', '17.0'), ('South Korea', '0.00'), ('Spain', '0.15'), ('Swaziland', '37.1'), ('Sweden', '0.19'), ('Switzerland', '0.52'), ('Taiwan', '0.60'), ('Ukraine', '0.20'), ('United Kingdom', '0.04'), ('United States', '3.60'), ('Uruguay', '3.43'), ('Venezuela', '39.0'), ('Zimbabwe', '0.03')]\n"
       ]
      }
     ],
     "prompt_number": 6
    },
    {
     "cell_type": "code",
     "collapsed": false,
     "input": [],
     "language": "python",
     "metadata": {},
     "outputs": []
    }
   ],
   "metadata": {}
  }
 ]
}