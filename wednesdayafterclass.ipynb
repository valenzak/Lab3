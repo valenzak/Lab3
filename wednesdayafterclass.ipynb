{
 "metadata": {
  "name": "wednesdayafterclass.ipynb"
 },
 "nbformat": 3,
 "nbformat_minor": 0,
 "worksheets": [
  {
   "cells": [
    {
     "cell_type": "markdown",
     "metadata": {},
     "source": [
      "This is a code to extract homicide rates in various countries.\n",
      "\n",
      "\n",
      "\n",
      "Note: First, I tried writing a code to extract all crime incidences around UW reported by UWPD.  The html was inconsistant, however, and I gave up after having to set the code to look for something else after every other incident."
     ]
    },
    {
     "cell_type": "code",
     "collapsed": false,
     "input": [
      "import urllib2\n",
      "import lxml.html\n",
      "import lxml.cssselect\n",
      "from lxml.cssselect import CSSSelector\n",
      "\n",
      "url = \"http://en.wikipedia.org/wiki/List_of_countries_by_firearm-related_death_rate\" #Define URL for table to be scraped\n",
      "doc_text = urllib2.urlopen(url).read()\n",
      "doc = lxml.html.fromstring(doc_text)\n",
      "doc.make_links_absolute(url)\n",
      "\n",
      "homdiv = doc.cssselect(\"table td:nth-child(3)\") #Define homocides per 100,000 as the 3rd column of the table\n",
      "hom = [] #Make a list for all the homocide rates\n",
      "for row in homdiv:    \n",
      "    hom.append(row.text[:4]) #Append the homocide rates to the list.  Anything after the third digit was the date the study was taken, so I used :4 to remove this part and only keep the homocide rates\n",
      "    dictionary\n",
      "    \n",
      "countryDiv = doc.cssselect(\"table td:nth-child(7)\") #Define country name as the 7th column of the table\n",
      "country = [] #Make a list for all the country names\n",
      "for row in countryDiv:\n",
      "    country.append(row.text[8:]) #Append the country names to the list.  Each row read \"Guns in COUNTRY\", so I used 8: to only select the country names\n",
      "        \n",
      "dictionary = dict(zip(country, hom)) #create a dictionary and add country and hom to the dictionary     \n",
      "print dictionary       \n",
      "\n",
      "#players = []\n",
      "#for row in tableRows: #for each row of table data representaing a player\\n\",\n",
      "#    dictionary = {}\\n\",\n",
      "#    names = row.cssselect(\\\"a\\\") #select the link in the row (the only link is players names)\\n\",\n",
      "#    bavg = row.cssselect(\\\"td.sortcell\\\") #select the batting average (bavg is the only td with that class)\\n\",\n",
      "#    name = names[0].text_content()\\n\",\n",
      "#    average = bavg[0].text_content()\\n\",\n",
      "#    dictionary[\\\"name\\\"] = name;\\n\",\n",
      "#    dictionary[\\\"bavg\\\"] = average; \\n\",\n",
      "#    players.append(dictionary) #these five lines build a dictionary for each player with keys name and bavg and append these dictionaries to a list\\n\",\n",
      "#print players\"\n",
      "\n",
      "from itertools import chain\n",
      "import csv\n",
      "res = zip(*list(chain.from_iterable(zip(country, hom))\n",
      "with open(\"C:\\\\Users\\\\valenzak\\\\Documents\\\\GitHub\\\\Lab3\\\\winning.csv\", \"wb\") as fout:\n",
      "    csvout = csv.writer(fout)\n",
      "    csvout.writerows(res)\n",
      "\n",
      "\n",
      "#fieldnames = ['country', 'hom']\n",
      "#test_file = open('C:\\\\Users\\\\valenzak\\\\Documents\\\\GitHub\\\\Lab3\\\\GunHomocides.csv','wb')\n",
      "#csvwriter = csv.DictWriter(test_file, delimiter=',', fieldnames=fieldnames)\n",
      "#csvwriter.writerow(dict((fn,fn) for fn in fieldnames))\n",
      "#for row in lod:\n",
      "#    csvwriter.writerow(row)\n",
      "#test_file.close()"
     ],
     "language": "python",
     "metadata": {},
     "outputs": [
      {
       "ename": "SyntaxError",
       "evalue": "invalid syntax (<ipython-input-39-678d44232fae>, line 40)",
       "output_type": "pyerr",
       "traceback": [
        "\u001b[1;36m  File \u001b[1;32m\"<ipython-input-39-678d44232fae>\"\u001b[1;36m, line \u001b[1;32m40\u001b[0m\n\u001b[1;33m    with open(\"C:\\\\Users\\\\valenzak\\\\Documents\\\\GitHub\\\\Lab3\\\\winning.csv\", \"wb\") as fout:\u001b[0m\n\u001b[1;37m       ^\u001b[0m\n\u001b[1;31mSyntaxError\u001b[0m\u001b[1;31m:\u001b[0m invalid syntax\n"
       ]
      }
     ],
     "prompt_number": 39
    },
    {
     "cell_type": "code",
     "collapsed": false,
     "input": [],
     "language": "python",
     "metadata": {},
     "outputs": []
    }
   ],
   "metadata": {}
  }
 ]
}