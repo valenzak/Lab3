{
 "metadata": {
  "name": "wednesdayafterclass.ipynb"
 },
 "nbformat": 3,
 "nbformat_minor": 0,
 "worksheets": [
  {
   "cells": [
    {
     "cell_type": "markdown",
     "metadata": {},
     "source": [
      "This is a code to extract homicide rates in various countries.\n",
      "\n",
      "\n",
      "\n",
      "Note: First, I tried writing a code to extract all crime incidences around UW reported by UWPD.  The html was inconsistant, however, and I gave up after having to set the code to look for something else after every other incident."
     ]
    },
    {
     "cell_type": "code",
     "collapsed": false,
     "input": [
      "#import 100 things\n",
      "import urllib2\n",
      "import lxml.html\n",
      "import lxml.cssselect\n",
      "from lxml.cssselect import CSSSelector\n",
      "\n",
      "#Set some more stuff up like explained on class website\n",
      "url = \"http://en.wikipedia.org/wiki/List_of_countries_by_firearm-related_death_rate\" #Define URL for table to be scraped\n",
      "doc_text = urllib2.urlopen(url).read()\n",
      "doc = lxml.html.fromstring(doc_text)\n",
      "doc.make_links_absolute(url)\n",
      "\n",
      "##Make a list of country names\n",
      "countryDiv = doc.cssselect(\"table td:nth-child(7)\") #Define country name as the 7th column of the table\n",
      "country = ['Countries'] #Make a list for all the country names, with \"Countries\" at the start so it goes at the top of the column later\n",
      "for row in countryDiv:\n",
      "    country.append(row.text[8:])#Append the country names to the list.  Each row read \"Guns in COUNTRY\", so I used 8: to only select the country names\n",
      "\n",
      "##Make a list for gun homicides in each country\n",
      "homDiv = doc.cssselect(\"table td:nth-child(3)\")#Define Homicides per 100,000 pop as the 3rd column of the table\n",
      "hom = ['Gun Homicides']#Make a list for all the Gun Homicides, with \"Gun Homicides\" at the start so it goes at the top of the column later\n",
      "for row in homDiv:\n",
      "    hom.append(row.text[:4])#Append the Gun Homicides to the list.  Each number is followed by a date the study was taken, so I used :4 to collect only the first 3 digits\n",
      "\n",
      "##Put the lists, country and hom, into one list so that they correspond with one another\n",
      "LastList = zip(country, hom)\n",
      "\n",
      "##Time to write a csv file titled \"GunHomicides\" with country and hom information in the Lab3 folder\n",
      "import csv\n",
      "with open('C:\\\\Users\\\\Valenter\\\\Documents\\\\Github\\\\Lab3\\\\GunHomicides.csv', 'wb') as f: #Defines where to put the new csv file\n",
      "    writer = csv.writer(f)\n",
      "    writer.writerows(LastList)#write the file"
     ],
     "language": "python",
     "metadata": {},
     "outputs": [],
     "prompt_number": 53
    }
   ],
   "metadata": {}
  }
 ]
}