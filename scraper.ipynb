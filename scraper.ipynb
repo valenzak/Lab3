{
 "metadata": {
  "name": "scraper.ipynb"
 },
 "nbformat": 3,
 "nbformat_minor": 0,
 "worksheets": [
  {
   "cells": [
    {
     "cell_type": "code",
     "collapsed": false,
     "input": [
      "doc_text = urllib2.urlopen(url).read()\n",
      "doc = lxml.html.fromstring(doc_textl)\n",
      "doc.make_links_absolute(url)"
     ],
     "language": "python",
     "metadata": {},
     "outputs": []
    }
   ],
   "metadata": {}
  }
 ]
}